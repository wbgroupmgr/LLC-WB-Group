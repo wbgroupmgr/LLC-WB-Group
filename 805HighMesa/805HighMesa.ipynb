{
 "cells": [
  {
   "cell_type": "markdown",
   "id": "7040c5b3-0e09-4f36-95b8-8ed619f62d01",
   "metadata": {},
   "source": [
    "# Property: 805 High Mesa Dr\n",
    "\n",
    "# Summary:\n",
    "\n",
    "1. The property represents 21% of savings.\n",
    "1. The transfer of funds out of Mkt Fideity will need to happen eventually (age of 73+)\n",
    "    - RMD @ age 73, ~4-5%\n",
    "1. The transfer of funds from Mkt Fidelity (ROI 8-10%) to RealEstate (ROI 5-8%) will incur less appreciation but better insurance against volatility in the market. (ie. Land is Land).\n",
    "1. The appreciation future value shows RE beats Mkt in short period.\n",
    "\n",
    "### CONCLUSION \n",
    "\n",
    "Go Forward :  invest in Property   2025.08.11"
   ]
  },
  {
   "cell_type": "markdown",
   "id": "bed3400a-1408-4e80-9e18-5d9e050e34a2",
   "metadata": {},
   "source": [
    "# Property Market Info\n",
    "\n",
    "[zillow](https://www.zillow.com/homedetails/805-High-Mesa-Dr-Wimberley-TX-78676/28589246_zpid/)\n",
    "\n",
    "- Latest Price: 2025.07, 235000, 10.3% \n",
    "- Initial Sale: 2024.04, 262000\n",
    "- Assessed Value: 2025, 175,872\n",
    "- SqFt: 1080\n",
    "- Lot: \n",
    "\n",
    "## Mobile Home Market\n",
    "\n",
    "- Market: 120-160K\n",
    "- Tax Assessment: 112K\n",
    "- Home has been staged but is basic:  $10K improvement\n",
    "- 1998 Mobile Home Purchased\n",
    "\n",
    "### Hays Co CAD Property Search\n",
    "\n",
    "- Development Agreements, Development Coordination, and Development Process Inquiries:\n",
    "    - (P) 512-393-2150 (Option 5)\n",
    "    - (E) development@hayscountytx.gov\n",
    "- Parcel Compliance, Platting, and Subdivision Inquiries:\n",
    "    - (P) 512-393-2150 (Option 5)\n",
    "    - (E) planning@hayscountytx.gov\n",
    "\n",
    "| Prop | Type | State Code | sqft | Value | Type2| Class CD | Year |Land|Acrage|\n",
    "| ---- | ---- | ---- | ---- | ---- | ---- | ---- | ---- | ---- | ---- |\n",
    "|805HighMesa| Mobile Home| A Living Area|1,080 | 112,800 | Main Area | MHDG | 1998 |A2-Mobile Home Or Land <br>(no Mtg) < 5 Ac||\n",
    "|177Kingsway|Residential| A Living Area|1,232|N/A| Main Area | R6P | 1982 |A1-Residential<br>(sf, 5 Ac Or Less)|0.5|\n",
    "\n",
    "\n",
    "- [805HighMesa](https://esearch.hayscad.com/Property/View/R22884?year=2026&ownerId=O0170156): Type: Mobile Home State Code: A Living Area: 1,080 sqft Value: 112,800\n",
    "    - MA\tMain Area\tMHDG\t1998\t1,080.00\t112,160\n",
    "- [177Kingsway](https://esearch.hayscad.com/Property/View/R33204): Type: Residential State Code: A Living Area: 1,232 sqft Value: N/A\n",
    "    - MA\tMain Area\tR6P     1982\t1,232.00\n",
    " \n",
    "### MHDG vs R6P \n",
    "\n",
    "Consult with the `Hays County Development Services Department` and potentially a licensed structural engineer for specific guidance on your project, \n",
    "\n",
    "Breakdown of Hays County home types.\n",
    "- [RESIDENTIAL-QUALITY-CLASS-DESCRIPTION](https://hayscad.com/wp-content/uploads/2020/04/RESIDENTIAL-QUALITY-CLASS-DESCRIPTION.pdf) : R6P and MHDF (??Mobile Home Dwelling Fixation??)\n",
    "- `Affixation`:\n",
    "    - This is the most prevalent term, and it directly relates to the\n",
    "    - legal process of permanently attaching the manufactured home to the land and\n",
    "    - converting it from `personal property` (like a vehicle) to `real propert`y (like a traditional house).\n",
    "    - It involves steps like removing wheels and axles,\n",
    "    - placing the home on a permanent foundation, and\n",
    "    - according to Network Transaction Solutions  ::  permanently retire the manufactured home title.\n",
    "- Hays County defines a \"Multi-Family Dwelling\" as any residential structure consisting of four (4) or more residential dwelling units.\n",
    "- Medium-density housing, often referred to as \"Missing Middle\" housing, commonly involves multiple units within a single structure, such as townhouses, duplexes, or small apartment buildings. \n",
    "- MHDG is undefined (\"medium-density residential\")\n",
    "\n",
    "\n",
    "## Deed History & Exemptions\n",
    "\n",
    "1. [Hays County Prop](https://esearch.hayscad.com/Property/View/R22884?year=2025&ownerId=O0170156)\n",
    "2. [Deeds - Hays Co](https://www.propertyrecs.com/pro/payment-select)\n",
    "3. Exemption: CBL - Circuit Breaker Limitation\n",
    "4. 2025.04 - Deed to wife from divorce settlement (Elizabeth Danford)\n",
    "5. 2004.10 - Warrenty Deed: Hughs ==> Danford couple\n",
    "6. 2001.09 - Sp Warrenty Deed: MorgCo ==> Hughs for $53200 -- Land: $37400   (CAD:Mkt 70%)\n",
    "7. 1998.05 - Warrenty Deed: McClain ==> Steward for NA ($10)\n",
    "8. 1994.11 - Probate Will : passed thru several owners\n",
    "9. 1979.06 - Built\n",
    "\n",
    "\n",
    "## HOA - Cedar Oak Mesa\n",
    "\n",
    "- [Link](https://cedaroakmesa.com/about)\n",
    "- [HOA Documents](https://cedaroakmesa.com/com-documents)\n",
    "- Janice Holloway 210-287-4404 : has BnB, 2 river parks (key)\n",
    "\n",
    "## Cost Outlay\n",
    "\n",
    "- Landscaping: $7000\n",
    "- Mobile Home: $2000\n",
    "- "
   ]
  },
  {
   "cell_type": "code",
   "execution_count": 1,
   "id": "4d3c119e-a52a-4027-a67a-f5b445a7bb8a",
   "metadata": {},
   "outputs": [],
   "source": [
    "import os,sys\n",
    "from pathlib import Path\n",
    "dirRE = os.path.dirname(os.getcwd())\n",
    "if len([p for p in sys.path if p == dirRE]) == 0 :\n",
    "    sys.path.append(dirRE)\n",
    "\n",
    "import pandas as pd\n",
    "from io import StringIO\n",
    "\n",
    "from rewim import rewimLLC\n",
    "from prop805HighMesa import property\n",
    "\n",
    "p = property(sell = 235000, assmt=175872, sqft=1080)"
   ]
  },
  {
   "cell_type": "markdown",
   "id": "5a16c182-c642-4b16-a466-fb4787ba8976",
   "metadata": {},
   "source": [
    "## General Info on Property"
   ]
  },
  {
   "cell_type": "code",
   "execution_count": 2,
   "id": "5f1a1a47-da9d-4bab-aa3c-589f7f25b256",
   "metadata": {},
   "outputs": [
    {
     "name": "stdout",
     "output_type": "stream",
     "text": [
      "Sell: 235000\n",
      "Assmt: 175872\n",
      "2025 Assmt::Mkt: 0.7483914893617021\n",
      "2021 Assmt::Mkt: 0.7030075187969925\n",
      "2025 Assmt@2021: 165206\n",
      "2025 Sell@2021: 250170\n",
      "\n",
      "Sell-20%: 188000.0\n",
      "Sell-10%: 211500.0\n",
      "\n",
      "Market Value (Cty Tax Ofc): 176520\n"
     ]
    }
   ],
   "source": [
    "p.genInfo()"
   ]
  },
  {
   "cell_type": "markdown",
   "id": "fd8358e1-9d3a-4b23-855a-b1ca3aa57068",
   "metadata": {},
   "source": [
    "## Real Est Annual Appreciation Model\n",
    "\n",
    "- Property sold for $53,200 in 2001\n"
   ]
  },
  {
   "cell_type": "code",
   "execution_count": 3,
   "id": "a61ee0d3-8c84-4206-9eff-fca0f7995ee8",
   "metadata": {},
   "outputs": [
    {
     "name": "stdout",
     "output_type": "stream",
     "text": [
      "Starting Value (2001): $ 53200\n",
      "Future Value @ 6%    : $ 59775\n",
      "Future Value @ 7%    : $ 60908\n",
      "Future Value @ 8%    : $ 62052\n"
     ]
    }
   ],
   "source": [
    "p.appreciationModel(53200, years = 2026-2001)"
   ]
  },
  {
   "cell_type": "markdown",
   "id": "8efdff3f-5fde-40f1-bd43-a6dd843eb531",
   "metadata": {},
   "source": [
    "## Finance Summary\n",
    "\n",
    "## Medicare Preimum Risk\n",
    "- USD 2,220 FY Premium on USD 216k @ USD 185/month)\n",
    "- USD 2,220 FY Premium Penalty :: 404K @ 370/month (minus normal premium)"
   ]
  },
  {
   "cell_type": "markdown",
   "id": "4e58a3e2-4ad9-4791-9c4d-7e998ad3585c",
   "metadata": {},
   "source": [
    "## Finance Cash Purchase\n",
    "\n",
    "### 2024 Tax Returns\n",
    "- _36K Roth Fund Transfer\n",
    "- 171k Base Net\n",
    "- 207K Net Total\n",
    "- _36K Tax Paid'\n",
    "- 17% tax\n",
    "\n",
    "### 2025 Tax Outlook - No Investment\n",
    "- _32K Roth Fund Transfer\n",
    "- 184k Base Net\n",
    "- 216K Net Total\n",
    "- _38K Tax Paid'\n",
    "- 18% tax\n",
    "\n",
    "### 2025 Tax Outlook - Buy 220000 With Investment \n",
    "- __0K Roth Fund Transfer\n",
    "- 184k Base Net\n",
    "- 220k Real Estate Investment\n",
    "- 404K Net Total\n",
    "- _38K Tax Paid (\\$216K)\n",
    "- _45K Tax on RE Investment\n",
    "- 18% tax"
   ]
  },
  {
   "cell_type": "markdown",
   "id": "9c468679-9b21-483e-a21e-921443dac7ba",
   "metadata": {},
   "source": [
    "## Finance with Morgage Option\n",
    "\n",
    "### 2025 Tax Outlook - Buy 220000 With Morgage USD 110,000\n",
    "\n",
    "- __0K Roth Fund Transfer\n",
    "- 184k Base Net\n",
    "- 110k Real Estate Investment\n",
    "- 295K Net Total\n",
    "- _38K Tax Paid (\\$216K)\n",
    "- _19K Tax on RE Investment\n",
    "- 19% tax\n",
    "- Morgage: $80 (110K @ 30Y @ 8%)\n",
    "\n",
    "#### 2026 Tax Outlook - Pay off morg Jan 2026\n",
    "- __0K Roth Fund Transfer\n",
    "- 191k Base Net\n",
    "- 110k Real Estate Investment\n",
    "- 301K Net Total\n",
    "- _38K Tax Paid (\\$216K)\n",
    "- _20K Tax on RE Investment\n",
    "- 19% tax\n",
    "\n",
    "\n",
    "$47K spent for investment property "
   ]
  },
  {
   "cell_type": "markdown",
   "id": "c6eda1d6-77f0-4088-bf06-2fb10abc4c0b",
   "metadata": {},
   "source": [
    "## Financial ROI: Mkt vs RE\n",
    "\n",
    "# Compute AppreciationValue - Expenses over X years"
   ]
  },
  {
   "cell_type": "code",
   "execution_count": 17,
   "id": "798d8ce3-2f84-4b86-8b65-fc8a8d1db203",
   "metadata": {},
   "outputs": [
    {
     "data": {
      "text/html": [
       "<div>\n",
       "<style scoped>\n",
       "    .dataframe tbody tr th:only-of-type {\n",
       "        vertical-align: middle;\n",
       "    }\n",
       "\n",
       "    .dataframe tbody tr th {\n",
       "        vertical-align: top;\n",
       "    }\n",
       "\n",
       "    .dataframe thead th {\n",
       "        text-align: right;\n",
       "    }\n",
       "</style>\n",
       "<table border=\"1\" class=\"dataframe\">\n",
       "  <thead>\n",
       "    <tr style=\"text-align: right;\">\n",
       "      <th></th>\n",
       "      <th>RE</th>\n",
       "      <th>Mkt</th>\n",
       "    </tr>\n",
       "  </thead>\n",
       "  <tbody>\n",
       "    <tr>\n",
       "      <th>av</th>\n",
       "      <td>79483</td>\n",
       "      <td>110292</td>\n",
       "    </tr>\n",
       "    <tr>\n",
       "      <th>inc</th>\n",
       "      <td>43000</td>\n",
       "      <td>0</td>\n",
       "    </tr>\n",
       "    <tr>\n",
       "      <th>Sum</th>\n",
       "      <td>122483</td>\n",
       "      <td>110292</td>\n",
       "    </tr>\n",
       "    <tr>\n",
       "      <th>pct.ROI</th>\n",
       "      <td>52.1%</td>\n",
       "      <td>46.9%</td>\n",
       "    </tr>\n",
       "  </tbody>\n",
       "</table>\n",
       "</div>"
      ],
      "text/plain": [
       "             RE     Mkt\n",
       "av        79483  110292\n",
       "inc       43000       0\n",
       "Sum      122483  110292\n",
       "pct.ROI   52.1%   46.9%"
      ]
     },
     "execution_count": 17,
     "metadata": {},
     "output_type": "execute_result"
    }
   ],
   "source": [
    "p.roi_RE_Mkt(yrs = 5)"
   ]
  },
  {
   "cell_type": "code",
   "execution_count": 5,
   "id": "f5aae424-e5ae-47aa-b9a3-5eb24aec8b15",
   "metadata": {},
   "outputs": [
    {
     "name": "stdout",
     "output_type": "stream",
     "text": [
      "Morg Principal: $ 127350 at 4%, Monthly Payment: $ 608\n",
      "Morg Principal: $ 127350 at 5%, Monthly Payment: $ 684\n",
      "Morg Principal: $ 127350 at 6%, Monthly Payment: $ 764\n",
      "Morg Principal: $ 127350 at 7%, Monthly Payment: $ 847\n"
     ]
    }
   ],
   "source": [
    "p.morgOptions()"
   ]
  },
  {
   "cell_type": "markdown",
   "id": "dd7e2bb1-15a7-4ee1-afec-0f98c60584cd",
   "metadata": {},
   "source": [
    "## Tax Model \n",
    "- compute RMD above budget income"
   ]
  },
  {
   "cell_type": "code",
   "execution_count": 13,
   "id": "9eeb4457-d8a2-4d7c-affd-ab7cbb74dc59",
   "metadata": {},
   "outputs": [
    {
     "data": {
      "text/html": [
       "<div>\n",
       "<style scoped>\n",
       "    .dataframe tbody tr th:only-of-type {\n",
       "        vertical-align: middle;\n",
       "    }\n",
       "\n",
       "    .dataframe tbody tr th {\n",
       "        vertical-align: top;\n",
       "    }\n",
       "\n",
       "    .dataframe thead th {\n",
       "        text-align: right;\n",
       "    }\n",
       "</style>\n",
       "<table border=\"1\" class=\"dataframe\">\n",
       "  <thead>\n",
       "    <tr style=\"text-align: right;\">\n",
       "      <th></th>\n",
       "      <th>amt</th>\n",
       "    </tr>\n",
       "  </thead>\n",
       "  <tbody>\n",
       "    <tr>\n",
       "      <th>incAmy</th>\n",
       "      <td>50000</td>\n",
       "    </tr>\n",
       "    <tr>\n",
       "      <th>incSav</th>\n",
       "      <td>36000</td>\n",
       "    </tr>\n",
       "    <tr>\n",
       "      <th>incPen</th>\n",
       "      <td>59000</td>\n",
       "    </tr>\n",
       "    <tr>\n",
       "      <th>incSS</th>\n",
       "      <td>32000</td>\n",
       "    </tr>\n",
       "    <tr>\n",
       "      <th>incRMD</th>\n",
       "      <td>30000</td>\n",
       "    </tr>\n",
       "  </tbody>\n",
       "</table>\n",
       "</div>"
      ],
      "text/plain": [
       "          amt\n",
       "incAmy  50000\n",
       "incSav  36000\n",
       "incPen  59000\n",
       "incSS   32000\n",
       "incRMD  30000"
      ]
     },
     "execution_count": 13,
     "metadata": {},
     "output_type": "execute_result"
    }
   ],
   "source": [
    "p.taxModel(207000)"
   ]
  },
  {
   "cell_type": "markdown",
   "id": "e9ead762-6313-4bc1-b51f-cdd276bf535a",
   "metadata": {},
   "source": [
    "## Tax Records"
   ]
  },
  {
   "cell_type": "code",
   "execution_count": 7,
   "id": "412149c0-b91e-4c41-94f4-0965a92c8541",
   "metadata": {},
   "outputs": [
    {
     "data": {
      "text/html": [
       "<div>\n",
       "<style scoped>\n",
       "    .dataframe tbody tr th:only-of-type {\n",
       "        vertical-align: middle;\n",
       "    }\n",
       "\n",
       "    .dataframe tbody tr th {\n",
       "        vertical-align: top;\n",
       "    }\n",
       "\n",
       "    .dataframe thead th {\n",
       "        text-align: right;\n",
       "    }\n",
       "</style>\n",
       "<table border=\"1\" class=\"dataframe\">\n",
       "  <thead>\n",
       "    <tr style=\"text-align: right;\">\n",
       "      <th></th>\n",
       "      <th>yr</th>\n",
       "      <th>taxFY</th>\n",
       "      <th>assmt</th>\n",
       "    </tr>\n",
       "  </thead>\n",
       "  <tbody>\n",
       "    <tr>\n",
       "      <th>0</th>\n",
       "      <td>2024</td>\n",
       "      <td>2132.0</td>\n",
       "      <td>146560</td>\n",
       "    </tr>\n",
       "    <tr>\n",
       "      <th>1</th>\n",
       "      <td>2023</td>\n",
       "      <td>2056.0</td>\n",
       "      <td>146560</td>\n",
       "    </tr>\n",
       "    <tr>\n",
       "      <th>2</th>\n",
       "      <td>2022</td>\n",
       "      <td>1844.0</td>\n",
       "      <td>116010</td>\n",
       "    </tr>\n",
       "    <tr>\n",
       "      <th>3</th>\n",
       "      <td>2021</td>\n",
       "      <td>1295.0</td>\n",
       "      <td>76560</td>\n",
       "    </tr>\n",
       "    <tr>\n",
       "      <th>4</th>\n",
       "      <td>2020</td>\n",
       "      <td>1362.0</td>\n",
       "      <td>76560</td>\n",
       "    </tr>\n",
       "    <tr>\n",
       "      <th>5</th>\n",
       "      <td>2019</td>\n",
       "      <td>1390.0</td>\n",
       "      <td>75400</td>\n",
       "    </tr>\n",
       "    <tr>\n",
       "      <th>6</th>\n",
       "      <td>2018</td>\n",
       "      <td>1275.0</td>\n",
       "      <td>67200</td>\n",
       "    </tr>\n",
       "    <tr>\n",
       "      <th>7</th>\n",
       "      <td>2017</td>\n",
       "      <td>719.0</td>\n",
       "      <td>57960</td>\n",
       "    </tr>\n",
       "    <tr>\n",
       "      <th>8</th>\n",
       "      <td>2016</td>\n",
       "      <td>727.0</td>\n",
       "      <td>57960</td>\n",
       "    </tr>\n",
       "    <tr>\n",
       "      <th>9</th>\n",
       "      <td>2015</td>\n",
       "      <td>827.0</td>\n",
       "      <td>57960</td>\n",
       "    </tr>\n",
       "    <tr>\n",
       "      <th>10</th>\n",
       "      <td>2014</td>\n",
       "      <td>827.0</td>\n",
       "      <td>56089</td>\n",
       "    </tr>\n",
       "    <tr>\n",
       "      <th>11</th>\n",
       "      <td>2013</td>\n",
       "      <td>NaN</td>\n",
       "      <td>50990</td>\n",
       "    </tr>\n",
       "    <tr>\n",
       "      <th>12</th>\n",
       "      <td>2012</td>\n",
       "      <td>NaN</td>\n",
       "      <td>50990</td>\n",
       "    </tr>\n",
       "    <tr>\n",
       "      <th>13</th>\n",
       "      <td>2011</td>\n",
       "      <td>NaN</td>\n",
       "      <td>47790</td>\n",
       "    </tr>\n",
       "    <tr>\n",
       "      <th>14</th>\n",
       "      <td>2010</td>\n",
       "      <td>NaN</td>\n",
       "      <td>47790</td>\n",
       "    </tr>\n",
       "    <tr>\n",
       "      <th>15</th>\n",
       "      <td>2009</td>\n",
       "      <td>NaN</td>\n",
       "      <td>50336</td>\n",
       "    </tr>\n",
       "    <tr>\n",
       "      <th>16</th>\n",
       "      <td>2007</td>\n",
       "      <td>NaN</td>\n",
       "      <td>45760</td>\n",
       "    </tr>\n",
       "    <tr>\n",
       "      <th>17</th>\n",
       "      <td>2006</td>\n",
       "      <td>NaN</td>\n",
       "      <td>45760</td>\n",
       "    </tr>\n",
       "    <tr>\n",
       "      <th>18</th>\n",
       "      <td>2005</td>\n",
       "      <td>NaN</td>\n",
       "      <td>45760</td>\n",
       "    </tr>\n",
       "    <tr>\n",
       "      <th>19</th>\n",
       "      <td>2004</td>\n",
       "      <td>NaN</td>\n",
       "      <td>45250</td>\n",
       "    </tr>\n",
       "    <tr>\n",
       "      <th>20</th>\n",
       "      <td>2003</td>\n",
       "      <td>NaN</td>\n",
       "      <td>45250</td>\n",
       "    </tr>\n",
       "    <tr>\n",
       "      <th>21</th>\n",
       "      <td>2002</td>\n",
       "      <td>NaN</td>\n",
       "      <td>41750</td>\n",
       "    </tr>\n",
       "    <tr>\n",
       "      <th>22</th>\n",
       "      <td>2001</td>\n",
       "      <td>NaN</td>\n",
       "      <td>37400</td>\n",
       "    </tr>\n",
       "    <tr>\n",
       "      <th>23</th>\n",
       "      <td>2000</td>\n",
       "      <td>NaN</td>\n",
       "      <td>39000</td>\n",
       "    </tr>\n",
       "  </tbody>\n",
       "</table>\n",
       "</div>"
      ],
      "text/plain": [
       "      yr   taxFY   assmt\n",
       "0   2024  2132.0  146560\n",
       "1   2023  2056.0  146560\n",
       "2   2022  1844.0  116010\n",
       "3   2021  1295.0   76560\n",
       "4   2020  1362.0   76560\n",
       "5   2019  1390.0   75400\n",
       "6   2018  1275.0   67200\n",
       "7   2017   719.0   57960\n",
       "8   2016   727.0   57960\n",
       "9   2015   827.0   57960\n",
       "10  2014   827.0   56089\n",
       "11  2013     NaN   50990\n",
       "12  2012     NaN   50990\n",
       "13  2011     NaN   47790\n",
       "14  2010     NaN   47790\n",
       "15  2009     NaN   50336\n",
       "16  2007     NaN   45760\n",
       "17  2006     NaN   45760\n",
       "18  2005     NaN   45760\n",
       "19  2004     NaN   45250\n",
       "20  2003     NaN   45250\n",
       "21  2002     NaN   41750\n",
       "22  2001     NaN   37400\n",
       "23  2000     NaN   39000"
      ]
     },
     "execution_count": 7,
     "metadata": {},
     "output_type": "execute_result"
    }
   ],
   "source": [
    "pd.read_csv('taxRec.csv')"
   ]
  },
  {
   "cell_type": "code",
   "execution_count": 8,
   "id": "8978a0bf-fbc9-4b0c-aff1-d59525ef9cb4",
   "metadata": {},
   "outputs": [
    {
     "name": "stdout",
     "output_type": "stream",
     "text": [
      "Monthly Mortgage Payment on $235000 @ 6%: $1,408.94\n"
     ]
    }
   ],
   "source": [
    "# Example usage\n",
    "monthly_payment = p.LLC().morgPymt(p.sell, 0.06, 30)\n",
    "print(f\"Monthly Mortgage Payment on ${p.sell} @ 6%: ${monthly_payment:,.2f}\")"
   ]
  },
  {
   "cell_type": "markdown",
   "id": "2898e337-b4f8-4c69-b877-b63077df3ce4",
   "metadata": {},
   "source": [
    "### Import Co Tax info"
   ]
  },
  {
   "cell_type": "code",
   "execution_count": 9,
   "id": "599a1d55-5752-4b23-b980-36b08c7660e6",
   "metadata": {},
   "outputs": [],
   "source": [
    "import requests\n",
    "yr = 2019\n",
    "url = f'https://esearch.hayscad.com/Property/View/R22884?year={yr}'\n",
    "r = requests.get(url)"
   ]
  },
  {
   "cell_type": "code",
   "execution_count": 10,
   "id": "9f8f5823-6626-40b6-9512-97c6e7c04c08",
   "metadata": {},
   "outputs": [],
   "source": [
    "from lxml import html\n",
    "root = html.fromstring(r.content)"
   ]
  },
  {
   "cell_type": "code",
   "execution_count": 11,
   "id": "100dd48c-9f98-46c2-9713-691b07f3f70d",
   "metadata": {},
   "outputs": [
    {
     "data": {
      "text/plain": [
       "[]"
      ]
     },
     "execution_count": 11,
     "metadata": {},
     "output_type": "execute_result"
    }
   ],
   "source": [
    "root.xpath('//table')"
   ]
  },
  {
   "cell_type": "markdown",
   "id": "4b9fdc41-31b7-4c1b-b51e-409d57a214bf",
   "metadata": {},
   "source": [
    "## BnB "
   ]
  },
  {
   "cell_type": "code",
   "execution_count": 12,
   "id": "0be32ef8-6409-400a-85f0-4cc766f94354",
   "metadata": {},
   "outputs": [
    {
     "ename": "SyntaxError",
     "evalue": "'[' was never closed (4230322799.py, line 1)",
     "output_type": "error",
     "traceback": [
      "\u001b[0;36m  Cell \u001b[0;32mIn[12], line 1\u001b[0;36m\u001b[0m\n\u001b[0;31m    pList = [dict(fee=448, co='vrbo', bdrm=3, sleeps=12, bath=4, mi2sq=2.6, desc='RiverRd'),\u001b[0m\n\u001b[0m            ^\u001b[0m\n\u001b[0;31mSyntaxError\u001b[0m\u001b[0;31m:\u001b[0m '[' was never closed\n"
     ]
    }
   ],
   "source": [
    "pList = [dict(fee=448, co='vrbo', bdrm=3, sleeps=12, bath=4, mi2sq=2.6, desc='RiverRd'),\n",
    "         dict(fee= 175, co='vrbo' , bdrm=3, sleeps=16, bath=2,  mi2sq=1, desc='7A Ranch'),\n",
    "         dict(fee= , co='vrbo' , bdrm=3, sleeps=6, bath=2,  mi2sq=1, desc=''),\n",
    "         dict(fee= , co='vrbo' , bdrm=3, sleeps=6, bath=2,  mi2sq=1, desc=''),\n",
    "         dict(fee= , co='vrbo' , bdrm=3, sleeps=6, bath=2,  mi2sq=1, desc=''),\n",
    "         dict(fee= , co='vrbo' , bdrm=3, sleeps=6, bath=2,  mi2sq=1, desc=''),\n",
    "         dict(fee= , co='vrbo' , bdrm=3, sleeps=6, bath=2,  mi2sq=1, desc=''),\n",
    "         dict(fee= , co='vrbo' , bdrm=3, sleeps=6, bath=2,  mi2sq=1, desc=''),\n",
    "         dict(fee= , co='vrbo' , bdrm=3, sleeps=6, bath=2,  mi2sq=1, desc=''),\n",
    "         dict(fee= , co='vrbo' , bdrm=3, sleeps=6, bath=2,  mi2sq=1, desc=''),"
   ]
  }
 ],
 "metadata": {
  "kernelspec": {
   "display_name": "Python 3 (ipykernel)",
   "language": "python",
   "name": "python3"
  },
  "language_info": {
   "codemirror_mode": {
    "name": "ipython",
    "version": 3
   },
   "file_extension": ".py",
   "mimetype": "text/x-python",
   "name": "python",
   "nbconvert_exporter": "python",
   "pygments_lexer": "ipython3",
   "version": "3.13.5"
  }
 },
 "nbformat": 4,
 "nbformat_minor": 5
}
