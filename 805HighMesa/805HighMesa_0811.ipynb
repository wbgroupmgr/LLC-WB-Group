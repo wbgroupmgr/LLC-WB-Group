{
 "cells": [
  {
   "cell_type": "code",
   "execution_count": 8,
   "id": "348dbf22-f546-4da5-b4ca-bc38661e23f7",
   "metadata": {},
   "outputs": [
    {
     "data": {
      "text/plain": [
       "665.3024951791823"
      ]
     },
     "execution_count": 8,
     "metadata": {},
     "output_type": "execute_result"
    }
   ],
   "source": [
    "from rewim import rewimLLC\n",
    "re = rewimLLC()\n",
    "re.morgPymt(100000, 0.07, 30)"
   ]
  },
  {
   "cell_type": "code",
   "execution_count": 24,
   "id": "2d2cecc9-9bf0-496d-8303-021d0c7b2b6a",
   "metadata": {},
   "outputs": [
    {
     "data": {
      "text/plain": [
       "'/Users/frankrojas/Library/CloudStorage/GoogleDrive-frankr6591@gmail.com/My Drive/Family/Assets'"
      ]
     },
     "execution_count": 24,
     "metadata": {},
     "output_type": "execute_result"
    }
   ],
   "source": []
  },
  {
   "cell_type": "code",
   "execution_count": 18,
   "id": "498954be-c62c-46f8-8cbc-ea199cb7582d",
   "metadata": {},
   "outputs": [
    {
     "data": {
      "text/html": [
       "<div>\n",
       "<style scoped>\n",
       "    .dataframe tbody tr th:only-of-type {\n",
       "        vertical-align: middle;\n",
       "    }\n",
       "\n",
       "    .dataframe tbody tr th {\n",
       "        vertical-align: top;\n",
       "    }\n",
       "\n",
       "    .dataframe thead th {\n",
       "        text-align: right;\n",
       "    }\n",
       "</style>\n",
       "<table border=\"1\" class=\"dataframe\">\n",
       "  <thead>\n",
       "    <tr style=\"text-align: right;\">\n",
       "      <th></th>\n",
       "      <th>yr</th>\n",
       "      <th>P</th>\n",
       "    </tr>\n",
       "  </thead>\n",
       "  <tbody>\n",
       "    <tr>\n",
       "      <th>0</th>\n",
       "      <td>2026</td>\n",
       "      <td>250000.0000</td>\n",
       "    </tr>\n",
       "    <tr>\n",
       "      <th>1</th>\n",
       "      <td>2027</td>\n",
       "      <td>267500.0000</td>\n",
       "    </tr>\n",
       "    <tr>\n",
       "      <th>2</th>\n",
       "      <td>2028</td>\n",
       "      <td>286225.0000</td>\n",
       "    </tr>\n",
       "    <tr>\n",
       "      <th>3</th>\n",
       "      <td>2029</td>\n",
       "      <td>306260.7500</td>\n",
       "    </tr>\n",
       "    <tr>\n",
       "      <th>4</th>\n",
       "      <td>2030</td>\n",
       "      <td>327699.0025</td>\n",
       "    </tr>\n",
       "  </tbody>\n",
       "</table>\n",
       "</div>"
      ],
      "text/plain": [
       "     yr            P\n",
       "0  2026  250000.0000\n",
       "1  2027  267500.0000\n",
       "2  2028  286225.0000\n",
       "3  2029  306260.7500\n",
       "4  2030  327699.0025"
      ]
     },
     "execution_count": 18,
     "metadata": {},
     "output_type": "execute_result"
    }
   ],
   "source": [
    "import pandas as pd\n",
    "buy = 250000\n",
    "p = buy\n",
    "pct = 0.07\n",
    "aList = []\n",
    "for yr in range(2026, 2026+5):\n",
    "    aList.append(dict(yr=yr, P=p))\n",
    "    p = p *(1.0+pct)\n",
    "\n",
    "df = pd.DataFrame(aList)   \n",
    "df\n"
   ]
  },
  {
   "cell_type": "code",
   "execution_count": 19,
   "id": "d7ceea4b-355e-4e81-aee7-b0cfe867dfce",
   "metadata": {},
   "outputs": [
    {
     "data": {
      "text/plain": [
       "(77699, 58274, 19424)"
      ]
     },
     "execution_count": 19,
     "metadata": {},
     "output_type": "execute_result"
    }
   ],
   "source": [
    "eqty = df.iloc[-1].P - buy\n",
    "eqtyF = eqty * 50/200\n",
    "int(eqty), int(eqty-eqtyF), int(eqtyF)"
   ]
  },
  {
   "cell_type": "code",
   "execution_count": 20,
   "id": "7310af3e-803d-4b89-896a-c2273a13ea9c",
   "metadata": {},
   "outputs": [
    {
     "data": {
      "text/plain": [
       "4030.0000000000005"
      ]
     },
     "execution_count": 20,
     "metadata": {},
     "output_type": "execute_result"
    }
   ],
   "source": [
    "100000*0.0403"
   ]
  },
  {
   "cell_type": "code",
   "execution_count": null,
   "id": "251d6cf9-30ff-479d-a8d4-6c56b0d06665",
   "metadata": {},
   "outputs": [],
   "source": []
  }
 ],
 "metadata": {
  "kernelspec": {
   "display_name": "Python 3 (ipykernel)",
   "language": "python",
   "name": "python3"
  },
  "language_info": {
   "codemirror_mode": {
    "name": "ipython",
    "version": 3
   },
   "file_extension": ".py",
   "mimetype": "text/x-python",
   "name": "python",
   "nbconvert_exporter": "python",
   "pygments_lexer": "ipython3",
   "version": "3.12.2"
  }
 },
 "nbformat": 4,
 "nbformat_minor": 5
}
