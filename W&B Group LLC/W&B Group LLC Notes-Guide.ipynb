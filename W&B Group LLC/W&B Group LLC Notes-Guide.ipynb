{
 "cells": [
  {
   "cell_type": "markdown",
   "id": "41a52804-9208-459c-94e3-9ca6295c5ba6",
   "metadata": {},
   "source": [
    "# W&B Group LLC\n",
    "\n",
    "W&B Group LLC - is a company for managing rental income with a mission to transfer a legacy to the next generation. \n",
    "\n",
    "The `W&B` (Wiwa-Bello) refers to the parents of Francisco Javier Rojas (Frank) who devoted their lives to living a good life and leaving a legacy to their children and the generations to come.  Financial wealth was not the core of their legacy.  The core of their legacy is integrity, humility, grace and the love of Christ to all you encounter, especially FAMILY. \n",
    "\n",
    "Francisco Javier Rojas is also known as Francis X. Rojas and/or Frank.\n",
    "\n",
    "\n",
    "## Mission Statement \n",
    "\n",
    "Refer to W&G Group LLC Mission.md.\n",
    "\n",
    "## Guide / Tips\n",
    "\n",
    "1. Reduce Your Taxes,\n",
    "2. Protect Your Real Estate Assets, and\n",
    "3. Grow Your Business\n",
    "\n",
    "\n",
    "- Establish a `Domestic Asset Protection Trust` that locks down your real estate holdings\n",
    "- Leverage LLC structures to insulate each property from creditor claims\n",
    "- Implement advanced asset protection tactics used by high-net-worth individuals\n",
    "- Use personalized tax strategies to slash your tax liability and keep more profits\n",
    "- Deploy offshore vs. onshore trusts—and choose the right fit for your portfolio\n",
    "\n",
    "## Table of Content\n",
    "\n",
    "- [Getting Started - Rental LLC](files/GettingStarted_Rental_LLC.md)\n",
    "\n",
    "## Expenae Management\n",
    "- [IRS Expense Info](files/Expenses_IRS_ExpenseGuide.md)\n",
    "\n",
    "### Management Legal Systems\n",
    "- [Legal Zoom](MgmtLegal_LegalZoom.md) [Link](https://www.legalzoom.com/business/business-formation/llc-overview.html)\n",
    "- [Tailor Brand](MgmtLegal_TailorBrand.md)\n",
    "- [Local Lawyer: Joe Malone - 512-847-9277](https://www.stevensmalonelaw.com/?npcmp=dir:local:5216414:78676)\n",
    "  \n",
    "\n",
    "### External Links\n",
    "- [Anderson Advisors Worksshop](https://andersonadvisors.com/tax-and-asset-protection-webinar/?utm_campaign=Tax%20and%20Asset%20Protection%20Workshop&utm_source=google&utm_medium=cpc&utm_content=search&utm_term=how%20to%20put%20rental%20property%20in%20llc-LVLLLCForProperties&utm_id=21128768776&mls=Online%20Marketing&ocs=7016f000001fhmeAAA&gad_source=1&gad_campaignid=21128768776&gbraid=0AAAAAD2cBySFOj7bVEK5qHuz-rmNxrzpL&gclid=CjwKCAjwkvbEBhApEiwAKUz6-7oOGgPOiyk5pcCMYIWIlqS_uwweFPzb33cYJt4Fqtwr0nUNxIxHcxoCsBoQAvD_BwE)\n",
    "- [Legal Zoom Starting LLC](https://www.legalzoom.com/business/business-formation/llc-overview.html)\n",
    "\n",
    "\n",
    "--------\n",
    "--------"
   ]
  },
  {
   "cell_type": "markdown",
   "id": "614088bc-0a56-4c43-b7ea-958fabf9e754",
   "metadata": {},
   "source": [
    "## 805 High Mesa Purchase\n",
    "\n",
    "- 2025.08.21 : [DOCUSIGN: Amendment - Buyer name ](https://apps.docusign.com/sign/app?ti=770d43b15a504888961a729fcb29e09d&signing-config=%7B%22SigningAppDisabledFlags%22%3A%22%22%2C%22EnableKazmonTelemetryRecorder%22%3Atrue%2C%22NotaryFetchSettings%22%3A%7B%22LiveoakTokenRequestTimeoutSeconds%22%3A30%2C%22EnableRemoteNotaryAuth%22%3Atrue%2C%22IsThirdPartyNotary%22%3Afalse%2C%22LiveoakTokenExchangeOrigin%22%3A%22%22%7D%2C%22WebFormsSettings%22%3Anull%2C%22OneDSMessagingOrigins%22%3Anull%2C%22FocusedViewSource%22%3Anull%7D&site=www.docusign.net)\n"
   ]
  },
  {
   "cell_type": "code",
   "execution_count": 37,
   "id": "f75d03e5-5c2f-46cc-bcdb-1641c7eca012",
   "metadata": {},
   "outputs": [
    {
     "data": {
      "text/plain": [
       "['.DS_Store',\n",
       " '.ipynb_checkpoints',\n",
       " '20250818-LLC_forms',\n",
       " 'Expenses_IRS_ExpenseGuide.md',\n",
       " 'GettingStarted_Rental_LLC.md',\n",
       " 'LLC Doc Records',\n",
       " 'Mgmt-Banking.md',\n",
       " 'Mgmt-Insurance.md',\n",
       " 'Mgmt-Landlord.md',\n",
       " 'MgmtCalandar.md',\n",
       " 'MgmtLegal_LegalZoom.md',\n",
       " 'MgmtLegal_TailorBrand.md',\n",
       " 'W&B Group - TxLLC OpAgreement .pdf',\n",
       " 'W&B Group - TxLLC OpAgreement.gdoc',\n",
       " 'W&B Group - TxLLC OpAgreement.pdf',\n",
       " 'W&B Group LLC Notes-Guide.ipynb',\n",
       " 'W&BGroup-TxLLC-OpAgreement-Orig.pdf',\n",
       " 'W&G Group LLC Mission.md']"
      ]
     },
     "execution_count": 37,
     "metadata": {},
     "output_type": "execute_result"
    }
   ],
   "source": [
    "import os\n",
    "sorted(os.listdir('.'))"
   ]
  },
  {
   "cell_type": "code",
   "execution_count": null,
   "id": "6c781770-96af-4a2c-85a1-b3051d05be69",
   "metadata": {},
   "outputs": [],
   "source": []
  },
  {
   "cell_type": "code",
   "execution_count": null,
   "id": "754a20ad-e4ac-4f8b-9a13-deea0c2cbf96",
   "metadata": {},
   "outputs": [],
   "source": []
  }
 ],
 "metadata": {
  "kernelspec": {
   "display_name": "Python 3 (ipykernel)",
   "language": "python",
   "name": "python3"
  },
  "language_info": {
   "codemirror_mode": {
    "name": "ipython",
    "version": 3
   },
   "file_extension": ".py",
   "mimetype": "text/x-python",
   "name": "python",
   "nbconvert_exporter": "python",
   "pygments_lexer": "ipython3",
   "version": "3.13.5"
  }
 },
 "nbformat": 4,
 "nbformat_minor": 5
}
