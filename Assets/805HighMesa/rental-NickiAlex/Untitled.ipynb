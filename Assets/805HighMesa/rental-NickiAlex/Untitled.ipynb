{
 "cells": [
  {
   "cell_type": "code",
   "execution_count": 2,
   "id": "8a95fb4b-8583-40ff-b143-8b276760f64f",
   "metadata": {},
   "outputs": [],
   "source": [
    "import os\n",
    "from pathlib import Path\n",
    "with open(os.path.join(Path.home(), 'Downloads','rentalagreement.htm'),'r') as fio:\n",
    "    h = fio.read()"
   ]
  },
  {
   "cell_type": "code",
   "execution_count": 6,
   "id": "c41c4260-23d1-426d-bab7-871642f5db83",
   "metadata": {},
   "outputs": [
    {
     "data": {
      "text/plain": [
       "-1"
      ]
     },
     "execution_count": 6,
     "metadata": {},
     "output_type": "execute_result"
    }
   ],
   "source": [
    "n = h.find('This Family Member')\n",
    "n #h[n-100:n+100]"
   ]
  },
  {
   "cell_type": "code",
   "execution_count": null,
   "id": "8ffb5f6a-2d3a-4e23-89c1-3b85322bb335",
   "metadata": {},
   "outputs": [],
   "source": []
  }
 ],
 "metadata": {
  "kernelspec": {
   "display_name": "Python 3 (ipykernel)",
   "language": "python",
   "name": "python3"
  },
  "language_info": {
   "codemirror_mode": {
    "name": "ipython",
    "version": 3
   },
   "file_extension": ".py",
   "mimetype": "text/x-python",
   "name": "python",
   "nbconvert_exporter": "python",
   "pygments_lexer": "ipython3",
   "version": "3.12.2"
  }
 },
 "nbformat": 4,
 "nbformat_minor": 5
}
